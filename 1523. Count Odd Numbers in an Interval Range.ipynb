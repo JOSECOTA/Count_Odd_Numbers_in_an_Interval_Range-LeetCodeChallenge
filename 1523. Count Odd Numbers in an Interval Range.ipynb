{
 "cells": [
  {
   "cell_type": "code",
   "execution_count": 1,
   "id": "fa07501c",
   "metadata": {},
   "outputs": [],
   "source": [
    "def count_odd(low, high):\n",
    "    diff = high - low\n",
    "\n",
    "    if high % 2 == 0 and low % 2 == 0:\n",
    "        return (diff // 2)\n",
    "    else:\n",
    "        return ((diff//2)+1)\n",
    "\n",
    "\n",
    "\n"
   ]
  },
  {
   "cell_type": "code",
   "execution_count": 5,
   "id": "be46b330",
   "metadata": {},
   "outputs": [
    {
     "data": {
      "text/plain": [
       "1"
      ]
     },
     "execution_count": 5,
     "metadata": {},
     "output_type": "execute_result"
    }
   ],
   "source": [
    "count_odd(low = 8, high = 10)"
   ]
  },
  {
   "cell_type": "code",
   "execution_count": null,
   "id": "fc329d31",
   "metadata": {},
   "outputs": [],
   "source": []
  }
 ],
 "metadata": {
  "kernelspec": {
   "display_name": "Python 3 (ipykernel)",
   "language": "python",
   "name": "python3"
  },
  "language_info": {
   "codemirror_mode": {
    "name": "ipython",
    "version": 3
   },
   "file_extension": ".py",
   "mimetype": "text/x-python",
   "name": "python",
   "nbconvert_exporter": "python",
   "pygments_lexer": "ipython3",
   "version": "3.9.7"
  }
 },
 "nbformat": 4,
 "nbformat_minor": 5
}
